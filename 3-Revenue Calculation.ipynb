{
  "nbformat": 4,
  "nbformat_minor": 0,
  "metadata": {
    "colab": {
      "name": "revenue.ipynb",
      "provenance": []
    },
    "kernelspec": {
      "name": "python3",
      "display_name": "Python 3"
    },
    "language_info": {
      "name": "python"
    }
  },
  "cells": [
    {
      "cell_type": "code",
      "execution_count": 2,
      "metadata": {
        "id": "2TPJSnEo9XYX"
      },
      "outputs": [],
      "source": [
        "salesperson_revenue = {\n",
        "    \"Ben\": 0,\n",
        "    \"Omer\": 0,\n",
        "    \"Karen\": 0,\n",
        "    \"Celine\": 0,\n",
        "    \"Sue\": 0,\n",
        "    \"Bora\": 0,\n",
        "    \"Rose\": 0,\n",
        "    \"Ellen\": 0,\n",
        "}\n"
      ]
    },
    {
      "cell_type": "code",
      "source": [
        "def enter_revenue(name, revenue):\n",
        "  global salesperson_revenue\n",
        "  salesperson_revenue[name] += revenue\n",
        "  "
      ],
      "metadata": {
        "id": "AXgjQm0a97ve"
      },
      "execution_count": 3,
      "outputs": []
    },
    {
      "cell_type": "code",
      "source": [
        "while True:\n",
        "  name = input(\"Employees name:\")\n",
        "  if name == \"quit\":\n",
        "    break\n",
        "  revenue = int(input(\"Enter revenue:\"))\n",
        "  enter_revenue(name, revenue)\n",
        "  print(f\"{name}'s revenue is {salesperson_revenue[name]}\")\n",
        "  "
      ],
      "metadata": {
        "colab": {
          "base_uri": "https://localhost:8080/"
        },
        "id": "LyoWPPup-Kpo",
        "outputId": "93c7ac57-fd27-459e-b045-0d845fbadf1d"
      },
      "execution_count": 4,
      "outputs": [
        {
          "name": "stdout",
          "output_type": "stream",
          "text": [
            "Employees name:Ben\n",
            "Enter revenue:20\n",
            "Ben's revenue is 20\n",
            "Employees name:Omer\n",
            "Enter revenue:50\n",
            "Omer's revenue is 50\n",
            "Employees name:Ben\n",
            "Enter revenue:115\n",
            "Ben's revenue is 135\n",
            "Employees name:Ben\n",
            "Enter revenue:135\n",
            "Ben's revenue is 270\n",
            "Employees name:quit\n"
          ]
        }
      ]
    },
    {
      "cell_type": "code",
      "source": [
        "print(salesperson_revenue)"
      ],
      "metadata": {
        "colab": {
          "base_uri": "https://localhost:8080/"
        },
        "id": "Cz8_8Eul-0Y-",
        "outputId": "d6beb1db-b5fd-4bb6-f0a1-dfe941e926d7"
      },
      "execution_count": 5,
      "outputs": [
        {
          "output_type": "stream",
          "name": "stdout",
          "text": [
            "{'Ben': 270, 'Omer': 50, 'Karen': 0, 'Celine': 0, 'Sue': 0, 'Bora': 0, 'Rose': 0, 'Ellen': 0}\n"
          ]
        }
      ]
    }
  ]
}
