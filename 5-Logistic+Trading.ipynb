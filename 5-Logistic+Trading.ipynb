{
  "nbformat": 4,
  "nbformat_minor": 0,
  "metadata": {
    "colab": {
      "name": "Guided_project_2.ipynb",
      "provenance": [],
      "collapsed_sections": []
    },
    "kernelspec": {
      "name": "python3",
      "display_name": "Python 3"
    },
    "language_info": {
      "name": "python"
    }
  },
  "cells": [
    {
      "cell_type": "markdown",
      "source": [
        "### Logistic\n",
        "Let's continue with the next company from your brief.\n",
        "\n",
        "Storage plays a crucial part in logistics, and the company wants to track the status of inventory space with software and be able to make changes in the system whenever it is needed.\n",
        "\n",
        "Again, you need to create a class.\n",
        "\n",
        "📌 Use the keyword \"class\" to create the class \"Logistics\" \n",
        "\n",
        "📌 Use the \"__init__\" method to initialze the object's attributes: self, company_name, foundation_year, founder_name,  company_slogan, and inventory_space."
      ],
      "metadata": {
        "id": "EX3NFIF-baj3"
      }
    },
    {
      "cell_type": "markdown",
      "source": [
        "#### Define the methods\n",
        "\n",
        "Next, define the methods of the class:\n",
        "\n",
        "1. print_report method: A method to print out information about the company. \n",
        "\n",
        "  📌 The report should have this structure: \n",
        "\n",
        "  \"The company *name*, was founded in *year*. The founder of the company is *founder_name*. \n",
        "\n",
        "  Company slogan: *company_slogan*\n",
        "\n",
        "  Inventory space of the company: *inventory_space*\n",
        "\n",
        "\n",
        "2. update_inventory_space method: A method to update its inventory_space, and print a statement to describe the change.\n",
        "It should consider the parameter \"new_storage_space\".\n"
      ],
      "metadata": {
        "id": "nPfZUASS4BMg"
      }
    },
    {
      "cell_type": "code",
      "source": [
        "#Define the \"Logistics\" class\n",
        "class Logistic:\n",
        "    #Initialize the object's attributes \n",
        "    def __init__(self, company_name, foundation_year, founder_name, company_slogan, inventory_space):\n",
        "      self.company_name = company_name\n",
        "      self.foundation_year = foundation_year\n",
        "      self.founder_name = founder_name\n",
        "      self.company_slogan = company_slogan\n",
        "      self.inventory_space = inventory_space    \n",
        "        \n",
        "    #Define the print_report method\n",
        "    def print_report(self):\n",
        "      print(f\"\"\"\n",
        "      The company name is {self.company_name} and was founded in {self.foundation_year}.\n",
        "      The founder of the company is {self.founder_name}.\n",
        "      Company slogan: {self.company_slogan}\n",
        "      Inventory space of the company: {self.inventory_space}\"\"\")   \n",
        "\n",
        "    #Define the update_inventory_space method\n",
        "    def update_inventory_space(self, new_storage_space):\n",
        "        self.inventory_space = new_storage_space\n",
        "        print(f\"Inventory space has been changed to {self.inventory_space}!\")   "
      ],
      "metadata": {
        "id": "fq1787jDa_BI"
      },
      "execution_count": 1,
      "outputs": []
    },
    {
      "cell_type": "markdown",
      "source": [
        "#### Create the object \n",
        "Now that we created our class and initialized its attributes and methods, we can create the object “logistic_company1” with the attributes: \n",
        "\n",
        "* Company_name “LogCom”\n",
        "\n",
        "* foundation_year “1990”\n",
        "\n",
        "* founder_name “Laura McCartey”\n",
        "\n",
        "* company_slogan “There is no place we cannot reach.” \n",
        "\n",
        "* inventory_space “2500”\n"
      ],
      "metadata": {
        "id": "AJOdGm82DJsy"
      }
    },
    {
      "cell_type": "code",
      "source": [
        "#Create the object \"logistic_company1\" with it's attributes\n",
        "logistic_company1 = Logistic(\"LogCom\", 1990, \"Laura\", \"There is no place we cannot reach.\", 2500)"
      ],
      "metadata": {
        "id": "jZpgNxEU25R9"
      },
      "execution_count": 2,
      "outputs": []
    },
    {
      "cell_type": "markdown",
      "source": [
        "\n",
        "#### Let’s check if the methods work.\n",
        "The logistics company plans to buy a new warehouse which will increase the inventory_space to 3000. \n",
        "\n",
        "📌 Call the update_inventory_space method to reflect this change in the system and then use the “print_report” method."
      ],
      "metadata": {
        "id": "g3Auswd8EMeE"
      }
    },
    {
      "cell_type": "code",
      "source": [
        "#Update the inventory space\n",
        "logistic_company1.update_inventory_space(3000)\n",
        "#Call the print_report method for logistic_company1\n",
        "logistic_company1.print_report()"
      ],
      "metadata": {
        "id": "Kcxcr1MS3TLB",
        "colab": {
          "base_uri": "https://localhost:8080/"
        },
        "outputId": "8cded7cb-6f03-4277-902d-883434bdee4a"
      },
      "execution_count": 3,
      "outputs": [
        {
          "output_type": "stream",
          "name": "stdout",
          "text": [
            "Inventory space has been changed to 3000!\n",
            "\n",
            "      The company name is LogCom and was founded in 1990.\n",
            "      The founder of the company is Laura.\n",
            "      Company slogan: There is no place we cannot reach.\n",
            "      Inventory space of the company: 3000\n"
          ]
        }
      ]
    },
    {
      "cell_type": "markdown",
      "source": [
        "### Trading\n",
        "The last company you need to digitalize is the trading one.\n",
        "\n",
        "You are expected to create a method to update the sales and expenses and calculate the revenue.\n",
        "\n",
        "As with the previous companies, you need to create a class.\n",
        "\n",
        "📌 Use the keyword \"class\" to create the class \"Trading\" \n",
        "\n",
        "📌 Use the \"__init__\" method to initialze the object's attributes: self, company_name, foundation_year, founder_name,  company_slogan, sales, expenses, and revenue.\n",
        "\n"
      ],
      "metadata": {
        "id": "CF-bba0xeH_G"
      }
    },
    {
      "cell_type": "markdown",
      "source": [
        "#### Define the methods\n",
        "\n",
        "Next, define the methods of the class:\n",
        "\n",
        "1. print_report method: A method to print out information about the company. \n",
        "\n",
        "  📌 The report should have this structure: \n",
        "\n",
        "  \"The company *name*, was founded in *year*. The founder of the company is *founder_name*. \n",
        "\n",
        "  Company slogan: *company_slogan*\n",
        "\n",
        "  Total sales: *sales*\n",
        "\n",
        "  Total expenses: *expenses*\n",
        "\n",
        "  Total revenue: *revenue*\n",
        "\n",
        "\n",
        "2. update_sales_and_expenses method: A method to update the sales and expenses.\n",
        "It should consider the parameters \"new_sales\" and \"new_expenses\".\n",
        "\n",
        "3. calculate_revenue method: A method  which computes the difference between sales and expenses and prints out the revenue."
      ],
      "metadata": {
        "id": "KSp_pa-08F69"
      }
    },
    {
      "cell_type": "code",
      "source": [
        "#Define the \"Trading\" class\n",
        "class Trading:\n",
        "    #Initialize the object's attributes \n",
        "    def __init__(self, company_name, foundation_year, founder_name, company_slogan, sales, expenses, revenue):\n",
        "      self.company_name = company_name\n",
        "      self.foundation_year = foundation_year\n",
        "      self.founder_name = founder_name\n",
        "      self.company_slogan = company_slogan\n",
        "      self.sales = sales\n",
        "      self.expenses = expenses\n",
        "      self.revenue = revenue   \n",
        "\n",
        "    #Define the print_report method\n",
        "    def print_report(self):\n",
        "      print(f\"\"\"\n",
        "      The company name is {self.company_name} and was founded in {self.foundation_year}.\n",
        "      The founder of the company is {self.founder_name}.\n",
        "      Company slogan: {self.company_slogan}\n",
        "      Total sales: {self.sales}\n",
        "      Total expenses: {self.expenses}\n",
        "      Total revenue: {self.revenue}\"\"\")  \n",
        "\n",
        "    #Define the update_sales_and_expenses method\n",
        "    def update_sales_and_expenses(self, new_sales, new_expenses):\n",
        "      self.sales += new_sales\n",
        "      self.expenses += new_expenses\n",
        "      print(\"Sales and expenses are updated!\")   \n",
        "\n",
        "    #Define the calculate_revenue method\n",
        "    def calculate_revenue(self):\n",
        "      self.revenue = self.sales - self.expenses\n",
        "      print(f\"The revenue of the company is: {self.revenue}\")"
      ],
      "metadata": {
        "id": "SGQJ507gd-m1"
      },
      "execution_count": 4,
      "outputs": []
    },
    {
      "cell_type": "markdown",
      "source": [
        "#### Create the object \n",
        "Now that we created our class and initialized its attributes and methods, we can create the object “trading_company1” with the attributes: \n",
        "\n",
        "* Company_name “TraCom”\n",
        "\n",
        "* foundation_year “2005”\n",
        "\n",
        "* founder_name “Chong Wu”\n",
        "\n",
        "* company_slogan “We revolutionize trading.” \n",
        "\n",
        "* sales \"5000\"\n",
        "\n",
        "* expenses \"2000\"\n",
        "\n",
        "* revenue \"3000\""
      ],
      "metadata": {
        "id": "r94nvoLmIiON"
      }
    },
    {
      "cell_type": "code",
      "source": [
        "#Create the object \"trading_company1\" with it's attributes\n",
        "trading_company1 = Trading(\"TraCom\", 2002, \"Chong Wu\", \"We revolutionize trading.\", 3850, 1720, 1838)"
      ],
      "metadata": {
        "id": "ZukV3vH2ePH8"
      },
      "execution_count": 5,
      "outputs": []
    },
    {
      "cell_type": "markdown",
      "source": [
        "#### Let’s check if the methods work.\n",
        "Update the sales and expenses. The sales went up by 100 and the expenses increased by 50.\n",
        "\n",
        "📌 Use the update_sales_and_expenses method with this information."
      ],
      "metadata": {
        "id": "lFoOC4JpYX0L"
      }
    },
    {
      "cell_type": "code",
      "source": [
        "#Update the sales and expenses\n",
        "trading_company1.update_sales_and_expenses(100, 50)"
      ],
      "metadata": {
        "id": "Cn0c-Nq27HDI",
        "colab": {
          "base_uri": "https://localhost:8080/"
        },
        "outputId": "a87d87d7-02d7-4fd7-8a79-615fa4a5de6d"
      },
      "execution_count": 6,
      "outputs": [
        {
          "output_type": "stream",
          "name": "stdout",
          "text": [
            "Sales and expenses are updated!\n"
          ]
        }
      ]
    },
    {
      "cell_type": "markdown",
      "source": [
        "After updating sale and expense informations, it is time to calculate the company revenue. \n",
        "\n",
        "📌 Use the calculate revenue method."
      ],
      "metadata": {
        "id": "PH28zb2WYrYl"
      }
    },
    {
      "cell_type": "code",
      "source": [
        "#Calculate the revenue\n",
        "trading_company1.calculate_revenue()"
      ],
      "metadata": {
        "id": "E5Yb-de-8AiK",
        "colab": {
          "base_uri": "https://localhost:8080/"
        },
        "outputId": "2afa390e-594c-4059-f527-b43b6cf68851"
      },
      "execution_count": 7,
      "outputs": [
        {
          "output_type": "stream",
          "name": "stdout",
          "text": [
            "The revenue of the company is: 2180\n"
          ]
        }
      ]
    },
    {
      "cell_type": "markdown",
      "source": [
        "Finally, let’s check our company’s information."
      ],
      "metadata": {
        "id": "Z8QEH24AI0GA"
      }
    },
    {
      "cell_type": "code",
      "source": [
        "#Call the print_report method for trading_company1\n",
        "trading_company1.print_report()"
      ],
      "metadata": {
        "id": "jdEaNvGV_OD0",
        "colab": {
          "base_uri": "https://localhost:8080/"
        },
        "outputId": "6f0133c5-17c3-467d-d38e-348665ebafc2"
      },
      "execution_count": 8,
      "outputs": [
        {
          "output_type": "stream",
          "name": "stdout",
          "text": [
            "\n",
            "      The company name is TraCom and was founded in 2002.\n",
            "      The founder of the company is Chong Wu.\n",
            "      Company slogan: We revolutionize trading.\n",
            "      Total sales: 3950\n",
            "      Total expenses: 1770\n",
            "      Total revenue: 2180\n"
          ]
        }
      ]
    }
  ]
}