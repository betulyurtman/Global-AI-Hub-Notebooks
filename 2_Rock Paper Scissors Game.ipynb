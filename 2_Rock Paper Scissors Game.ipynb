{
  "nbformat": 4,
  "nbformat_minor": 0,
  "metadata": {
    "colab": {
      "provenance": []
    },
    "kernelspec": {
      "name": "python3",
      "display_name": "Python 3"
    },
    "language_info": {
      "name": "python"
    }
  },
  "cells": [
    {
      "cell_type": "code",
      "source": [
        "import random\n",
        "action_list = [\"rock\", \"paper\", \"scissors\"]\n",
        "computer_score = 0\n",
        "player_score = 0\n",
        "\n",
        "total_rounds = input(\"How many rounds do you want to play? Please enter a number.\")\n",
        "round_counter = 0\n",
        "while True:\n",
        "  round_counter += 1\n",
        "  print(\"Round number:\", round_counter)\n",
        "  computer_choice = random.choice(action_list)\n",
        "  player_choice = input(\"Please choose your action:\")\n",
        "  print(\"Computer:\", computer_choice)\n",
        "  print(\"Player:\", player_choice)\n",
        "\n",
        "  if computer_choice == player_choice:\n",
        "    print(\"Tie!\")\n",
        "  elif computer_choice == \"paper\":\n",
        "    if player_choice == \"rock\":\n",
        "      print(\"Winner is: Computer\")\n",
        "      computer_score += 1\n",
        "    else: \n",
        "      print(\"Winner is: Player\")\n",
        "      player_score += 1\n",
        "  elif computer_choice == \"rock\":\n",
        "    if player_choice == \"paper\":\n",
        "      print(\"Winner is: Player\")\n",
        "      player_score +=1\n",
        "    else:\n",
        "      print(\"Winner is: Computer\")\n",
        "      computer_score += 1     \n",
        "  elif computer_choice == \"scissors\":\n",
        "    if player_choice == \"paper\":\n",
        "      print(\"Winner is: Computer\")\n",
        "      computer_score +=1\n",
        "    else:\n",
        "      print(\"Winner is: Player\")\n",
        "      player_score +=1\n",
        "\n",
        "  if round_counter == int(total_rounds):\n",
        "    break\n",
        "\n",
        "if computer_score == player_score:\n",
        "  print(\"Tie!\", computer_score, \":\", player_score)\n",
        "elif computer_score > player_score:\n",
        "  print(\"Computer won with score\", computer_score, \":\", player_score)\n",
        "elif computer_score < player_score:\n",
        "  print(\"Player won with score\", computer_score, \":\", player_score) \n"
      ],
      "metadata": {
        "colab": {
          "base_uri": "https://localhost:8080/"
        },
        "id": "jetgPAxU5Gvs",
        "outputId": "9a065726-ce71-4f70-a2b9-463a83e6af89"
      },
      "execution_count": 1,
      "outputs": [
        {
          "output_type": "stream",
          "name": "stdout",
          "text": [
            "How many rounds do you want to play? Please enter a number.5\n",
            "Round number: 1\n",
            "Please choose your action:rock\n",
            "Computer: scissorts\n",
            "Player: rock\n",
            "Round number: 2\n",
            "Please choose your action:paper\n",
            "Computer: rock\n",
            "Player: paper\n",
            "Winner is: Player\n",
            "Round number: 3\n",
            "Please choose your action:scissor\n",
            "Computer: rock\n",
            "Player: scissor\n",
            "Winner is: Computer\n",
            "Round number: 4\n",
            "Please choose your action:rock\n",
            "Computer: paper\n",
            "Player: rock\n",
            "Winner is: Computer\n",
            "Round number: 5\n",
            "Please choose your action:paper\n",
            "Computer: paper\n",
            "Player: paper\n",
            "Tie!\n",
            "Computer won with score 2 : 1\n"
          ]
        }
      ]
    }
  ]
}
